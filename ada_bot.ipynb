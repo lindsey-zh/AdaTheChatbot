{
  "nbformat": 4,
  "nbformat_minor": 0,
  "metadata": {
    "colab": {
      "name": "ada bot.ipynb",
      "provenance": [],
      "collapsed_sections": []
    },
    "kernelspec": {
      "name": "python3",
      "display_name": "Python 3"
    }
  },
  "cells": [
    {
      "cell_type": "code",
      "metadata": {
        "id": "8gDWma9thf6b",
        "outputId": "e11ecf19-c221-4ed6-b695-53457ac715e1",
        "colab": {
          "base_uri": "https://localhost:8080/",
          "height": 323
        }
      },
      "source": [
        "pip install praw"
      ],
      "execution_count": 2,
      "outputs": [
        {
          "output_type": "stream",
          "text": [
            "Collecting praw\n",
            "\u001b[?25l  Downloading https://files.pythonhosted.org/packages/2c/15/4bcc44271afce0316c73cd2ed35f951f1363a07d4d5d5440ae5eb2baad78/praw-7.1.0-py3-none-any.whl (152kB)\n",
            "\u001b[K     |████████████████████████████████| 153kB 4.3MB/s \n",
            "\u001b[?25hCollecting websocket-client>=0.54.0\n",
            "\u001b[?25l  Downloading https://files.pythonhosted.org/packages/4c/5f/f61b420143ed1c8dc69f9eaec5ff1ac36109d52c80de49d66e0c36c3dfdf/websocket_client-0.57.0-py2.py3-none-any.whl (200kB)\n",
            "\u001b[K     |████████████████████████████████| 204kB 8.9MB/s \n",
            "\u001b[?25hCollecting update-checker>=0.17\n",
            "  Downloading https://files.pythonhosted.org/packages/0c/ba/8dd7fa5f0b1c6a8ac62f8f57f7e794160c1f86f31c6d0fb00f582372a3e4/update_checker-0.18.0-py3-none-any.whl\n",
            "Collecting prawcore<2.0,>=1.3.0\n",
            "  Downloading https://files.pythonhosted.org/packages/1d/40/b741437ce4c7b64f928513817b29c0a615efb66ab5e5e01f66fe92d2d95b/prawcore-1.5.0-py3-none-any.whl\n",
            "Requirement already satisfied: six in /usr/local/lib/python3.6/dist-packages (from websocket-client>=0.54.0->praw) (1.15.0)\n",
            "Requirement already satisfied: requests>=2.3.0 in /usr/local/lib/python3.6/dist-packages (from update-checker>=0.17->praw) (2.23.0)\n",
            "Requirement already satisfied: chardet<4,>=3.0.2 in /usr/local/lib/python3.6/dist-packages (from requests>=2.3.0->update-checker>=0.17->praw) (3.0.4)\n",
            "Requirement already satisfied: idna<3,>=2.5 in /usr/local/lib/python3.6/dist-packages (from requests>=2.3.0->update-checker>=0.17->praw) (2.10)\n",
            "Requirement already satisfied: certifi>=2017.4.17 in /usr/local/lib/python3.6/dist-packages (from requests>=2.3.0->update-checker>=0.17->praw) (2020.6.20)\n",
            "Requirement already satisfied: urllib3!=1.25.0,!=1.25.1,<1.26,>=1.21.1 in /usr/local/lib/python3.6/dist-packages (from requests>=2.3.0->update-checker>=0.17->praw) (1.24.3)\n",
            "Installing collected packages: websocket-client, update-checker, prawcore, praw\n",
            "Successfully installed praw-7.1.0 prawcore-1.5.0 update-checker-0.18.0 websocket-client-0.57.0\n"
          ],
          "name": "stdout"
        }
      ]
    },
    {
      "cell_type": "code",
      "metadata": {
        "id": "rWCNwjschr5P"
      },
      "source": [
        "import praw\n",
        "import os\n",
        "import sys\n",
        "from praw.exceptions import APIException\n",
        "import random as r\n",
        "import time as t"
      ],
      "execution_count": 3,
      "outputs": []
    },
    {
      "cell_type": "code",
      "metadata": {
        "id": "i92Vbi9OLFmm"
      },
      "source": [
        "#CHANGE THISSSS\n",
        "userAgent = 'betty'\n",
        "cID = 'JBs7cg-8_7iaOA'\n",
        "cSC= 'zF6DZxTtM1Dux7Zqra3sRYhsTu0'\n",
        "userN = 'Betty-Bot'\n",
        "userP ='thestillsmoking$'\n",
        "reddit = praw.Reddit(user_agent=userAgent, client_id=cID, client_secret=cSC, username=userN, password=userP)\n"
      ],
      "execution_count": 4,
      "outputs": []
    },
    {
      "cell_type": "code",
      "metadata": {
        "id": "hpbDtaNSPHLz"
      },
      "source": [
        "subreddit = reddit.subreddit('testingground4bots+bottest')\n",
        "keywords = ['pineapples']\n",
        "bot_phrase = ['ily', 'you are loved', 'your life matters', 'it will be better soon', 'you deserve the world', 'you deserve to be happy', 'you are such a huge inspiration to many of us', 'you are beautiful inside and out', 'never lose hope', 'somewhere out there, someone cares about you', 'you are worthy', \"i may not understand what you're going through, but i believe in you\", 'the sun will still rise']\n",
        "duplicateComments = []\n",
        "duplicateSubmissions = []\n",
        "\n",
        "def output():\n",
        "  item_url = 'https://www.reddit.com' + submission.permalink\n",
        "  print(\"URL: \", item_url)\n",
        "  print(\"BODY: \", submission.selftext)\n",
        "  if type_to == 'title':\n",
        "    print(\"TITLE: \", submission.title)\n",
        "  elif type_to == 'body':\n",
        "    print(\"BODY2: \", submission.selftext)\n",
        "  elif type_to == 'comment':\n",
        "    print(\"COMMENT: \", comment.body)\n"
      ],
      "execution_count": 5,
      "outputs": []
    },
    {
      "cell_type": "code",
      "metadata": {
        "id": "08Dl-Hxs8o-r"
      },
      "source": [
        "type_to = 'body'\n",
        "b_confirm = False\n",
        "\n",
        "type_to = 'title'\n",
        "t_confirm = False\n",
        "\n",
        "for submission in subreddit.new(limit=20):\n",
        "  n_body = submission.selftext.lower()\n",
        "  n_title = submission.title.lower()\n",
        "  author = str(submission.author)\n",
        "  s_id = submission.id\n",
        "\n",
        "  if s_id in duplicateSubmissions:\n",
        "    print(\"dup\")\n",
        "  else:\n",
        "    duplicateSubmissions.append(s_id)\n",
        "    print('https://www.reddit.com' + submission.permalink)\n",
        "    for i in keywords:\n",
        "      if i in n_body:\n",
        "        b_confirm = True\n",
        "\n",
        "      else:\n",
        "        b_confirm = False\n",
        "      print(\"b: \", b_confirm)\n",
        "\n",
        "      if i in n_title:\n",
        "        t_confirm = True\n",
        "      else:\n",
        "        t_confirm = False\n",
        "      print('t: ', t_confirm)\n",
        "\n",
        "      if b_confirm == True or t_confirm == True:\n",
        "        try:\n",
        "          if b_confirm == True and t_confirm == True:\n",
        "            print(\"both body & title\")\n",
        "            submission.reply(bot_phrase[3])\n",
        "          elif b_confirm == True:\n",
        "            print(\"body\")\n",
        "            submission.reply(bot_phrase[0])\n",
        "          elif t_confirm == True:\n",
        "            print(\"title\")\n",
        "            submission.reply(bot_phrase[1])\n",
        "          output()\n",
        "\n",
        "          #print(\"TARG: \",type(str(author)))\n",
        "          #reddit.redditor(author).message(\"TEST\", \"Testing.\")\n",
        "\n",
        "          t.sleep(5)\n",
        "        except APIException as e:\n",
        "          print(\"\\nComment not sent.\\n----------------------\\n\")\n",
        "      else:\n",
        "        print(duplicateSubmissions)"
      ],
      "execution_count": null,
      "outputs": []
    },
    {
      "cell_type": "code",
      "metadata": {
        "id": "DY71QY0D8ukA"
      },
      "source": [
        "type_to = 'comment'\n",
        "c_confirm = False\n",
        "\n",
        "for comment in subreddit.stream.comments():\n",
        "  n_comment = comment.body.lower()\n",
        "  author = str(comment.author)\n",
        "  c_id = comment.id\n",
        "\n",
        "  if c_id in duplicateSubmissions:\n",
        "    pass\n",
        "  else:\n",
        "    duplicateComments.append(c_id)\n",
        "    print('https://www.reddit.com', comment.permalink)\n",
        "    for i in keywords:\n",
        "      if i in n_comment:\n",
        "        c_confirm = True\n",
        "        print(duplicateComments)\n",
        "        try:\n",
        "          comment.reply(bot_phrase[2])\n",
        "          output()\n",
        "\n",
        "          #print(\"TARG: \",type(str(dm_target)))\n",
        "          #reddit.redditor(author).message(\"TEST\", \"Testing.\")\n",
        "          \n",
        "          t.sleep(2)\n",
        "        except APIException as e:\n",
        "          print(\"\\nComment not processed.\\n----------------------\\n\")\n"
      ],
      "execution_count": null,
      "outputs": []
    },
    {
      "cell_type": "code",
      "metadata": {
        "id": "Qk4GVrze8lDb"
      },
      "source": [
        "'''\n",
        "type_to = 'title'\n",
        "t_confirm = False\n",
        "\n",
        "for submission in subreddit.new(limit=None):  \n",
        "  n_title = submission.title.lower()\n",
        "  author = str(submission.author)\n",
        "  s_id = submission.id\n",
        "\n",
        "  if s_id in duplicateSubmissions:\n",
        "    pass\n",
        "  else:\n",
        "    #duplicateSubmissions.append(s_id)\n",
        "    print('https://www.reddit.com' + submission.permalink)\n",
        "    for i in keywords:\n",
        "      if i in n_title:\n",
        "        print(duplicateSubmissions)\n",
        "        t_confirm = True\n",
        "        if t_confirm = True or b_confirm = True:\n",
        "          try:\n",
        "            submission.reply(bot_phrase[0])\n",
        "            output()\n",
        "\n",
        "            #print(\"TARG: \",type(str(author)))\n",
        "            #reddit.redditor(author).message(\"TEST\", \"Testing.\")\n",
        "\n",
        "            t.sleep(2)\n",
        "          except APIException as e:\n",
        "            print(\"\\nTitle not processed.\\n----------------------\\n\")\n",
        "'''"
      ],
      "execution_count": null,
      "outputs": []
    },
    {
      "cell_type": "code",
      "metadata": {
        "id": "uLRyfEeppNVr",
        "outputId": "997e347a-ab6d-48ee-8b62-d2c291ae4a67",
        "colab": {
          "base_uri": "https://localhost:8080/",
          "height": 103
        }
      },
      "source": [
        "'''\n",
        "subreddit = reddit.subreddit('testingground4bots') #any subreddit you want to monitor\n",
        "keywords = {'sheldon cooper', 'dog'} #makes a set of keywords to find in subreddits\n",
        "\n",
        "def explain():\n",
        "  global i\n",
        "  print('Submission: ', submission.title)\n",
        "  print('Keyword: ', i)\n",
        "  if type_to == 'submission':\n",
        "    print(\"Submission: \", submission.title)\n",
        "  elif type_to == 'comment':\n",
        "    print(\"Comment: \", comment.body)\n",
        "  print('Bot saying: ', bot_phrase, \"\\n\")\n",
        "\n",
        "\n",
        "for submission in subreddit.stream.submissions(): #this views the most recent 50 posts in that subbreddit\n",
        "  type_to = 'submission'\n",
        "  bot_phrase = r.choice(['um', 'buffering', 'cigar']) #phrase that the bot replies with\n",
        "  n_title = submission.title.lower() #makes the post title lowercase so we can compare our keywords with it.\n",
        "  for i in keywords: #goes through our keywords\n",
        "    if i in n_title: #if one of our keywords matches a title in the top 10 of the subreddit\n",
        "      explain()\n",
        "      try:\n",
        "        submission.reply(bot_phrase)\n",
        "      except APIException as e:\n",
        "        print(\"Submission over.\\n\")\n",
        "\n",
        "  submission.comment_sort = 'new'\n",
        "  submission.comments.replace_more(limit=None)\n",
        "  for comment in submission.comments.list():\n",
        "    type_to = 'comment'\n",
        "    for i in keywords:\n",
        "      if i in comment.body:\n",
        "        explain()\n",
        "        try:\n",
        "          comment.reply(bot_phrase)\n",
        "        except APIException as e:\n",
        "          print(\"Comment over.\\n\")\n",
        "\n",
        "for comment in subreddit.stream.comments():\n",
        "  type_to = 'comment'\n",
        "  bot_phrase = r.choice(['um', 'buffering', 'cigar']) #phrase that the bot replies with\n",
        "  n_comment = comment.body.lower()\n",
        "  for i in keywords:\n",
        "    if i in n_comment:\n",
        "      explain()\n",
        "\n",
        "      try:\n",
        "        comment.reply(bot_phrase)\n",
        "      except APIException as e:\n",
        "        print(\"Comment over.\\n\")\n",
        "'''"
      ],
      "execution_count": null,
      "outputs": [
        {
          "output_type": "execute_result",
          "data": {
            "application/vnd.google.colaboratory.intrinsic+json": {
              "type": "string"
            },
            "text/plain": [
              "'\\nsubreddit = reddit.subreddit(\\'testingground4bots\\') #any subreddit you want to monitor\\nkeywords = {\\'sheldon cooper\\', \\'dog\\'} #makes a set of keywords to find in subreddits\\n\\ndef explain():\\n  global i\\n  print(\\'Submission: \\', submission.title)\\n  print(\\'Keyword: \\', i)\\n  if type_to == \\'submission\\':\\n    print(\"Submission: \", submission.title)\\n  elif type_to == \\'comment\\':\\n    print(\"Comment: \", comment.body)\\n  print(\\'Bot saying: \\', bot_phrase, \"\\n\")\\n\\n\\nfor submission in subreddit.stream.submissions(): #this views the most recent 50 posts in that subbreddit\\n  type_to = \\'submission\\'\\n  bot_phrase = r.choice([\\'um\\', \\'buffering\\', \\'cigar\\']) #phrase that the bot replies with\\n  n_title = submission.title.lower() #makes the post title lowercase so we can compare our keywords with it.\\n  for i in keywords: #goes through our keywords\\n    if i in n_title: #if one of our keywords matches a title in the top 10 of the subreddit\\n      explain()\\n      try:\\n        submission.reply(bot_phrase)\\n      except APIException as e:\\n        print(\"Submission over.\\n\")\\n\\n  submission.comment_sort = \\'new\\'\\n  submission.comments.replace_more(limit=None)\\n  for comment in submission.comments.list():\\n    type_to = \\'comment\\'\\n    for i in keywords:\\n      if i in comment.body:\\n        explain()\\n        try:\\n          comment.reply(bot_phrase)\\n        except APIException as e:\\n          print(\"Comment over.\\n\")\\n\\nfor comment in subreddit.stream.comments():\\n  type_to = \\'comment\\'\\n  bot_phrase = r.choice([\\'um\\', \\'buffering\\', \\'cigar\\']) #phrase that the bot replies with\\n  n_comment = comment.body.lower()\\n  for i in keywords:\\n    if i in n_comment:\\n      explain()\\n\\n      try:\\n        comment.reply(bot_phrase)\\n      except APIException as e:\\n        print(\"Comment over.\\n\")\\n'"
            ]
          },
          "metadata": {
            "tags": []
          },
          "execution_count": 135
        }
      ]
    }
  ]
}