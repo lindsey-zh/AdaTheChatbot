{
  "nbformat": 4,
  "nbformat_minor": 0,
  "metadata": {
    "colab": {
      "name": "ada_modelling.ipynb",
      "provenance": []
    },
    "kernelspec": {
      "name": "python3",
      "display_name": "Python 3"
    }
  },
  "cells": [
    {
      "cell_type": "code",
      "metadata": {
        "id": "tFss38t7OKGK",
        "outputId": "d021114c-fb38-49e1-f348-3c350dad9e7f",
        "colab": {
          "base_uri": "https://localhost:8080/",
          "height": 357
        }
      },
      "source": [
        "!pip install wordninja\n",
        "!pip install scattertext && python -m spacy.en.download\n",
        "!pip install sklearn\n",
        "\n",
        "import numpy as np\n",
        "import pandas as pd\n",
        "import seaborn as sns\n",
        "import matplotlib.pyplot as plt\n",
        "\n",
        "pd.set_option('display.max_columns', 100)\n",
        "sns.set_style(\"darkgrid\")\n",
        "\n",
        "from nltk.tokenize import RegexpTokenizer\n",
        "from nltk.stem import WordNetLemmatizer\n",
        "from nltk.corpus import stopwords\n",
        "import re\n",
        "\n",
        "from sklearn.feature_extraction.text import CountVectorizer\n",
        "from sklearn.model_selection import train_test_split\n",
        "from sklearn.naive_bayes import MultinomialNB\n",
        "from sklearn.metrics import confusion_matrix\n",
        "from sklearn.metrics import roc_auc_score\n",
        "from sklearn.metrics import classification_report\n",
        "from sklearn.preprocessing import StandardScaler\n",
        "from sklearn.neighbors import KNeighborsClassifier\n",
        "from sklearn.linear_model import LogisticRegression\n",
        "from sklearn.feature_extraction.text import TfidfVectorizer\n",
        "\n",
        "from wordcloud import WordCloud, STOPWORDS, ImageColorGenerator\n",
        "from PIL import Image\n",
        "\n",
        "import wordninja\n",
        "\n",
        "%matplotlib inline\n",
        "import scattertext as st\n",
        "import re, io\n",
        "from pprint import pprint\n",
        "from scipy.stats import rankdata, hmean, norm\n",
        "import spacy\n",
        "import os, pkgutil, json, urllib\n",
        "from urllib.request import urlopen\n",
        "from IPython.display import IFrame\n",
        "from IPython.core.display import display, HTML\n",
        "from scattertext import CorpusFromPandas, produce_scattertext_explorer\n",
        "display(HTML(\"<style>.container { width:98% !important; }</style>\"))"
      ],
      "execution_count": 14,
      "outputs": [
        {
          "output_type": "stream",
          "text": [
            "Requirement already satisfied: wordninja in /usr/local/lib/python3.6/dist-packages (2.0.0)\n",
            "Requirement already satisfied: scattertext in /usr/local/lib/python3.6/dist-packages (0.0.2.71)\n",
            "Requirement already satisfied: statsmodels in /usr/local/lib/python3.6/dist-packages (from scattertext) (0.10.2)\n",
            "Requirement already satisfied: pandas in /usr/local/lib/python3.6/dist-packages (from scattertext) (1.1.2)\n",
            "Requirement already satisfied: scikit-learn in /usr/local/lib/python3.6/dist-packages (from scattertext) (0.22.2.post1)\n",
            "Requirement already satisfied: mock in /usr/local/lib/python3.6/dist-packages (from scattertext) (4.0.2)\n",
            "Requirement already satisfied: flashtext in /usr/local/lib/python3.6/dist-packages (from scattertext) (2.7)\n",
            "Requirement already satisfied: numpy in /usr/local/lib/python3.6/dist-packages (from scattertext) (1.18.5)\n",
            "Requirement already satisfied: scipy in /usr/local/lib/python3.6/dist-packages (from scattertext) (1.4.1)\n",
            "Requirement already satisfied: six in /usr/local/lib/python3.6/dist-packages (from scattertext) (1.15.0)\n",
            "Requirement already satisfied: patsy>=0.4.0 in /usr/local/lib/python3.6/dist-packages (from statsmodels->scattertext) (0.5.1)\n",
            "Requirement already satisfied: python-dateutil>=2.7.3 in /usr/local/lib/python3.6/dist-packages (from pandas->scattertext) (2.8.1)\n",
            "Requirement already satisfied: pytz>=2017.2 in /usr/local/lib/python3.6/dist-packages (from pandas->scattertext) (2018.9)\n",
            "Requirement already satisfied: joblib>=0.11 in /usr/local/lib/python3.6/dist-packages (from scikit-learn->scattertext) (0.16.0)\n",
            "/usr/bin/python3: Error while finding module specification for 'spacy.en.download' (ModuleNotFoundError: No module named 'spacy.en')\n",
            "Requirement already satisfied: sklearn in /usr/local/lib/python3.6/dist-packages (0.0)\n",
            "Requirement already satisfied: scikit-learn in /usr/local/lib/python3.6/dist-packages (from sklearn) (0.22.2.post1)\n",
            "Requirement already satisfied: joblib>=0.11 in /usr/local/lib/python3.6/dist-packages (from scikit-learn->sklearn) (0.16.0)\n",
            "Requirement already satisfied: scipy>=0.17.0 in /usr/local/lib/python3.6/dist-packages (from scikit-learn->sklearn) (1.4.1)\n",
            "Requirement already satisfied: numpy>=1.11.0 in /usr/local/lib/python3.6/dist-packages (from scikit-learn->sklearn) (1.18.5)\n"
          ],
          "name": "stdout"
        },
        {
          "output_type": "display_data",
          "data": {
            "text/html": [
              "<style>.container { width:98% !important; }</style>"
            ],
            "text/plain": [
              "<IPython.core.display.HTML object>"
            ]
          },
          "metadata": {
            "tags": []
          }
        }
      ]
    },
    {
      "cell_type": "code",
      "metadata": {
        "id": "C0sn3gdITSi3"
      },
      "source": [
        "model_data = pd.read_csv('../data/fin_combined_data.csv', keep_default_na=False)"
      ],
      "execution_count": 15,
      "outputs": []
    },
    {
      "cell_type": "code",
      "metadata": {
        "id": "4r7g44Go4Qg1",
        "outputId": "05af29c6-0425-4919-8110-0851a79defc7",
        "colab": {
          "base_uri": "https://localhost:8080/",
          "height": 142
        }
      },
      "source": [
        "model_data.head(3)"
      ],
      "execution_count": 16,
      "outputs": [
        {
          "output_type": "execute_result",
          "data": {
            "text/html": [
              "<div>\n",
              "<style scoped>\n",
              "    .dataframe tbody tr th:only-of-type {\n",
              "        vertical-align: middle;\n",
              "    }\n",
              "\n",
              "    .dataframe tbody tr th {\n",
              "        vertical-align: top;\n",
              "    }\n",
              "\n",
              "    .dataframe thead th {\n",
              "        text-align: right;\n",
              "    }\n",
              "</style>\n",
              "<table border=\"1\" class=\"dataframe\">\n",
              "  <thead>\n",
              "    <tr style=\"text-align: right;\">\n",
              "      <th></th>\n",
              "      <th>title</th>\n",
              "      <th>selftext</th>\n",
              "      <th>is_suicide</th>\n",
              "      <th>url</th>\n",
              "    </tr>\n",
              "  </thead>\n",
              "  <tbody>\n",
              "    <tr>\n",
              "      <th>0</th>\n",
              "      <td>Our most-broken and least-understood rules is ...</td>\n",
              "      <td>We understand that most people who reply immed...</td>\n",
              "      <td>1</td>\n",
              "      <td>https://www.reddit.com/r/depression/comments/d...</td>\n",
              "    </tr>\n",
              "    <tr>\n",
              "      <th>1</th>\n",
              "      <td>Regular Check-In Post</td>\n",
              "      <td>Welcome to /r/depression's check-in post - a p...</td>\n",
              "      <td>1</td>\n",
              "      <td>https://www.reddit.com/r/depression/comments/e...</td>\n",
              "    </tr>\n",
              "    <tr>\n",
              "      <th>2</th>\n",
              "      <td>I hate it so much when you try and express you...</td>\n",
              "      <td>I've been feeling really depressed and lonely ...</td>\n",
              "      <td>1</td>\n",
              "      <td>https://www.reddit.com/r/depression/comments/f...</td>\n",
              "    </tr>\n",
              "  </tbody>\n",
              "</table>\n",
              "</div>"
            ],
            "text/plain": [
              "                                               title  \\\n",
              "0  Our most-broken and least-understood rules is ...   \n",
              "1                              Regular Check-In Post   \n",
              "2  I hate it so much when you try and express you...   \n",
              "\n",
              "                                            selftext  is_suicide  \\\n",
              "0  We understand that most people who reply immed...           1   \n",
              "1  Welcome to /r/depression's check-in post - a p...           1   \n",
              "2  I've been feeling really depressed and lonely ...           1   \n",
              "\n",
              "                                                 url  \n",
              "0  https://www.reddit.com/r/depression/comments/d...  \n",
              "1  https://www.reddit.com/r/depression/comments/e...  \n",
              "2  https://www.reddit.com/r/depression/comments/f...  "
            ]
          },
          "metadata": {
            "tags": []
          },
          "execution_count": 16
        }
      ]
    },
    {
      "cell_type": "code",
      "metadata": {
        "id": "59V9E58_54rS",
        "outputId": "19a2656b-eee3-49ef-dd9d-05b7381a1298",
        "colab": {
          "base_uri": "https://localhost:8080/",
          "height": 204
        }
      },
      "source": [
        "model_data.info()"
      ],
      "execution_count": 17,
      "outputs": [
        {
          "output_type": "stream",
          "text": [
            "<class 'pandas.core.frame.DataFrame'>\n",
            "RangeIndex: 2516 entries, 0 to 2515\n",
            "Data columns (total 4 columns):\n",
            " #   Column      Non-Null Count  Dtype \n",
            "---  ------      --------------  ----- \n",
            " 0   title       2516 non-null   object\n",
            " 1   selftext    2516 non-null   object\n",
            " 2   is_suicide  2516 non-null   int64 \n",
            " 3   url         2516 non-null   object\n",
            "dtypes: int64(1), object(3)\n",
            "memory usage: 78.8+ KB\n"
          ],
          "name": "stdout"
        }
      ]
    },
    {
      "cell_type": "code",
      "metadata": {
        "id": "PHOeO1tDFaQe",
        "outputId": "fd7f7b8d-c279-4c75-c2bd-022f9703b3a3",
        "colab": {
          "base_uri": "https://localhost:8080/",
          "height": 34
        }
      },
      "source": [
        "model_data['is_suicide'].mean()\n",
        "#baseline accuracy of 60.25%"
      ],
      "execution_count": 18,
      "outputs": [
        {
          "output_type": "execute_result",
          "data": {
            "text/plain": [
              "0.6025437201907791"
            ]
          },
          "metadata": {
            "tags": []
          },
          "execution_count": 18
        }
      ]
    },
    {
      "cell_type": "code",
      "metadata": {
        "id": "fQ_QzmdDG8BC"
      },
      "source": [
        "def multi_modelling(columns_list, model):\n",
        "    for i in columns_list:\n",
        "        X = model_data[i]\n",
        "        y = model_data['is_suicide']\n",
        "        \n",
        "        X_train, X_test, y_train, y_test = train_test_split(X, y, test_size=0.25, random_state=42, stratify=y)\n",
        "        \n",
        "        cvec = CountVectorizer()\n",
        "        cvec.fit(X_train)\n",
        "        \n",
        "        X_train = pd.DataFrame(cvec.transform(X_train).todense(),\n",
        "                               columns=cvec.get_feature_names())\n",
        "        X_test = pd.DataFrame(cvec.transform(X_test).todense(),\n",
        "                               columns=cvec.get_feature_names())\n",
        "        \n",
        "        nb = MultinomialNB()\n",
        "        nb.fit(X_train,y_train)\n",
        "        \n",
        "        pred = nb.predict(X_test)\n",
        "        \n",
        "        tn, fp, fn, tp = confusion_matrix(y_test, pred).ravel()\n",
        "        \n",
        "        \n",
        "        nb.predict_proba(X_test)\n",
        "        pred_proba = [i[1] for i in nb.predict_proba(X_test)] \n",
        "        auc = roc_auc_score(y_test, pred_proba)\n",
        "\n",
        "        classi_dict = (classification_report(y_test,pred, output_dict=True))\n",
        "\n",
        "        model_results = {}\n",
        "        model_results['series used (X)'] = i\n",
        "        model_results['model'] = model\n",
        "        model_results['AUC Score'] = auc\n",
        "        model_results['precision']= classi_dict['weighted avg']['precision']\n",
        "        model_results['recall (sensitivity)']= classi_dict['weighted avg']['recall']\n",
        "        model_results['confusion matrix']={\"TP\": tp,\"FP\":fp, \"TN\": tn, \"FN\": fn}\n",
        "        model_results['train accuracy'] = nb.score(X_train, y_train)\n",
        "        model_results['test accuracy'] = nb.score(X_test, y_test)\n",
        "        model_results['baseline accuracy']=0.5166\n",
        "        model_results['specificity']= tn/(tn+fp)  \n",
        "        model_results['f1-score']= classi_dict['weighted avg']['f1-score']\n",
        "\n",
        "        model_results\n",
        "        df_list.append(model_results) \n",
        "\n",
        "    pd.set_option(\"display.max_colwidth\", 50)\n",
        "    return (pd.DataFrame(df_list)).round(2)"
      ],
      "execution_count": 19,
      "outputs": []
    },
    {
      "cell_type": "code",
      "metadata": {
        "id": "Mq41FNDVOQXP",
        "outputId": "eb9168ae-9d2b-4b1e-d637-abd830090121",
        "colab": {
          "base_uri": "https://localhost:8080/",
          "height": 111
        }
      },
      "source": [
        "columns_list = ['title', 'selftext']\n",
        "model = \"CountVec + MultinomialNB\"\n",
        "df_list=[]\n",
        "multi_modelling(columns_list, model)"
      ],
      "execution_count": 20,
      "outputs": [
        {
          "output_type": "execute_result",
          "data": {
            "text/html": [
              "<div>\n",
              "<style scoped>\n",
              "    .dataframe tbody tr th:only-of-type {\n",
              "        vertical-align: middle;\n",
              "    }\n",
              "\n",
              "    .dataframe tbody tr th {\n",
              "        vertical-align: top;\n",
              "    }\n",
              "\n",
              "    .dataframe thead th {\n",
              "        text-align: right;\n",
              "    }\n",
              "</style>\n",
              "<table border=\"1\" class=\"dataframe\">\n",
              "  <thead>\n",
              "    <tr style=\"text-align: right;\">\n",
              "      <th></th>\n",
              "      <th>series used (X)</th>\n",
              "      <th>model</th>\n",
              "      <th>AUC Score</th>\n",
              "      <th>precision</th>\n",
              "      <th>recall (sensitivity)</th>\n",
              "      <th>confusion matrix</th>\n",
              "      <th>train accuracy</th>\n",
              "      <th>test accuracy</th>\n",
              "      <th>baseline accuracy</th>\n",
              "      <th>specificity</th>\n",
              "      <th>f1-score</th>\n",
              "    </tr>\n",
              "  </thead>\n",
              "  <tbody>\n",
              "    <tr>\n",
              "      <th>0</th>\n",
              "      <td>title</td>\n",
              "      <td>CountVec + MultinomialNB</td>\n",
              "      <td>0.96</td>\n",
              "      <td>0.89</td>\n",
              "      <td>0.89</td>\n",
              "      <td>{'TP': 363, 'FP': 54, 'TN': 196, 'FN': 16}</td>\n",
              "      <td>0.96</td>\n",
              "      <td>0.89</td>\n",
              "      <td>0.52</td>\n",
              "      <td>0.78</td>\n",
              "      <td>0.89</td>\n",
              "    </tr>\n",
              "    <tr>\n",
              "      <th>1</th>\n",
              "      <td>selftext</td>\n",
              "      <td>CountVec + MultinomialNB</td>\n",
              "      <td>0.99</td>\n",
              "      <td>0.94</td>\n",
              "      <td>0.94</td>\n",
              "      <td>{'TP': 377, 'FP': 38, 'TN': 212, 'FN': 2}</td>\n",
              "      <td>0.96</td>\n",
              "      <td>0.94</td>\n",
              "      <td>0.52</td>\n",
              "      <td>0.85</td>\n",
              "      <td>0.94</td>\n",
              "    </tr>\n",
              "  </tbody>\n",
              "</table>\n",
              "</div>"
            ],
            "text/plain": [
              "  series used (X)                     model  AUC Score  precision  \\\n",
              "0           title  CountVec + MultinomialNB       0.96       0.89   \n",
              "1        selftext  CountVec + MultinomialNB       0.99       0.94   \n",
              "\n",
              "   recall (sensitivity)                            confusion matrix  \\\n",
              "0                  0.89  {'TP': 363, 'FP': 54, 'TN': 196, 'FN': 16}   \n",
              "1                  0.94   {'TP': 377, 'FP': 38, 'TN': 212, 'FN': 2}   \n",
              "\n",
              "   train accuracy  test accuracy  baseline accuracy  specificity  f1-score  \n",
              "0            0.96           0.89               0.52         0.78      0.89  \n",
              "1            0.96           0.94               0.52         0.85      0.94  "
            ]
          },
          "metadata": {
            "tags": []
          },
          "execution_count": 20
        }
      ]
    },
    {
      "cell_type": "code",
      "metadata": {
        "id": "H5IwvjoNWR3c",
        "outputId": "6c195c63-743f-44d0-9c8d-8c6799571cf9",
        "colab": {
          "base_uri": "https://localhost:8080/",
          "height": 51
        }
      },
      "source": [
        "X = model_data[\"title\"]\n",
        "y = model_data['is_suicide']\n",
        "\n",
        "X_train, X_test, y_train, y_test = train_test_split(X, y, test_size=0.25, random_state=42, stratify=y)\n",
        "\n",
        "tvec_optimised = TfidfVectorizer(max_df= 0.5, max_features=70, min_df=2, ngram_range=(1, 3),stop_words = 'english')\n",
        "X_train_tvec = tvec_optimised.fit_transform(X_train).todense()\n",
        "X_test_tvec = tvec_optimised.transform(X_test).todense()\n",
        "\n",
        "nb = MultinomialNB()\n",
        "nb.fit(X_train_tvec, y_train)\n",
        "accuracy = nb.score(X_test_tvec, y_test)\n",
        "\n",
        "pred_proba = [i[1] for i in nb.predict_proba(X_test_tvec)] \n",
        "auc = roc_auc_score(y_test, pred_proba)\n",
        "\n",
        "print(\"ACCURACY: {}\\nAUC SCORE: {}\".format(accuracy, auc))\n"
      ],
      "execution_count": 21,
      "outputs": [
        {
          "output_type": "stream",
          "text": [
            "ACCURACY: 0.7376788553259142\n",
            "AUC SCORE: 0.8325751978891821\n"
          ],
          "name": "stdout"
        }
      ]
    },
    {
      "cell_type": "code",
      "metadata": {
        "id": "GbctY2UuXCNw",
        "outputId": "57f53768-f36f-4e40-b0e0-d99e1fc411e2",
        "colab": {
          "base_uri": "https://localhost:8080/",
          "height": 51
        }
      },
      "source": [
        "X = model_data[\"selftext\"]\n",
        "y = model_data['is_suicide']\n",
        "\n",
        "X_train, X_test, y_train, y_test = train_test_split(X, y, test_size=0.25, random_state=42, stratify=y)\n",
        "\n",
        "tvec_optimised = TfidfVectorizer(max_df= 0.5, max_features=70, min_df=2, ngram_range=(1, 3),stop_words = 'english')\n",
        "X_train_tvec = tvec_optimised.fit_transform(X_train).todense()\n",
        "X_test_tvec = tvec_optimised.transform(X_test).todense()\n",
        "\n",
        "nb = MultinomialNB()\n",
        "nb.fit(X_train_tvec, y_train)\n",
        "accuracy = nb.score(X_test_tvec, y_test)\n",
        "\n",
        "pred_proba = [i[1] for i in nb.predict_proba(X_test_tvec)] \n",
        "auc = roc_auc_score(y_test, pred_proba)\n",
        "\n",
        "print(\"ACCURACY: {}\\nAUC SCORE: {}\".format(accuracy, auc) )"
      ],
      "execution_count": 22,
      "outputs": [
        {
          "output_type": "stream",
          "text": [
            "ACCURACY: 0.821939586645469\n",
            "AUC SCORE: 0.9560105540897098\n"
          ],
          "name": "stdout"
        }
      ]
    },
    {
      "cell_type": "code",
      "metadata": {
        "id": "lVu8HEF-crSb"
      },
      "source": [
        "model_data2 = pd.read_csv('../data/testdata.csv', keep_default_na=False)"
      ],
      "execution_count": 23,
      "outputs": []
    },
    {
      "cell_type": "code",
      "metadata": {
        "id": "ygmaa4Nseipc",
        "outputId": "881f474f-8a6a-4a96-a718-cd8c53d901e4",
        "colab": {
          "base_uri": "https://localhost:8080/",
          "height": 34
        }
      },
      "source": [
        "model_data2['is_suicide'].mean()\n",
        "#baseline accuracy of 65.18%"
      ],
      "execution_count": 24,
      "outputs": [
        {
          "output_type": "execute_result",
          "data": {
            "text/plain": [
              "0.6518010291595198"
            ]
          },
          "metadata": {
            "tags": []
          },
          "execution_count": 24
        }
      ]
    },
    {
      "cell_type": "code",
      "metadata": {
        "id": "OcJDju9EexeS",
        "outputId": "fbb326d3-7902-4097-b390-737dc66cf9a7",
        "colab": {
          "base_uri": "https://localhost:8080/",
          "height": 51
        }
      },
      "source": [
        "X = model_data2[\"title\"]\n",
        "y = model_data2['is_suicide']\n",
        "\n",
        "X_train, X_test, y_train, y_test = train_test_split(X, y, test_size=0.25, random_state=42, stratify=y)\n",
        "\n",
        "tvec_optimised = TfidfVectorizer(max_df= 0.5, max_features=70, min_df=2, ngram_range=(1, 3),stop_words = 'english')\n",
        "X_train_tvec = tvec_optimised.fit_transform(X_train).todense()\n",
        "X_test_tvec = tvec_optimised.transform(X_test).todense()\n",
        "\n",
        "nb = MultinomialNB()\n",
        "nb.fit(X_train_tvec, y_train)\n",
        "accuracy = nb.score(X_test_tvec, y_test)\n",
        "\n",
        "pred_proba = [i[1] for i in nb.predict_proba(X_test_tvec)] \n",
        "auc = roc_auc_score(y_test, pred_proba)\n",
        "\n",
        "print(\"ACCURACY: {}\\nAUC SCORE: {}\".format(accuracy, auc))"
      ],
      "execution_count": 25,
      "outputs": [
        {
          "output_type": "stream",
          "text": [
            "ACCURACY: 0.8082191780821918\n",
            "AUC SCORE: 0.8661506707946337\n"
          ],
          "name": "stdout"
        }
      ]
    },
    {
      "cell_type": "code",
      "metadata": {
        "id": "FR-6VMDqe4Cn",
        "outputId": "28ff2273-fdad-4a70-e1b1-485b09f52767",
        "colab": {
          "base_uri": "https://localhost:8080/",
          "height": 51
        }
      },
      "source": [
        "X = model_data2[\"selftext\"]\n",
        "y = model_data2['is_suicide']\n",
        "\n",
        "X_train, X_test, y_train, y_test = train_test_split(X, y, test_size=0.25, random_state=42, stratify=y)\n",
        "\n",
        "tvec_optimised = TfidfVectorizer(max_df= 0.5, max_features=70, min_df=2, ngram_range=(1, 3),stop_words = 'english')\n",
        "X_train_tvec = tvec_optimised.fit_transform(X_train).todense()\n",
        "X_test_tvec = tvec_optimised.transform(X_test).todense()\n",
        "\n",
        "nb = MultinomialNB()\n",
        "nb.fit(X_train_tvec, y_train)\n",
        "accuracy = nb.score(X_test_tvec, y_test)\n",
        "\n",
        "pred_proba = [i[1] for i in nb.predict_proba(X_test_tvec)] \n",
        "auc = roc_auc_score(y_test, pred_proba)\n",
        "\n",
        "print(\"ACCURACY: {}\\nAUC SCORE: {}\".format(accuracy, auc) )"
      ],
      "execution_count": 26,
      "outputs": [
        {
          "output_type": "stream",
          "text": [
            "ACCURACY: 0.8356164383561644\n",
            "AUC SCORE: 0.9330237358101136\n"
          ],
          "name": "stdout"
        }
      ]
    }
  ]
}