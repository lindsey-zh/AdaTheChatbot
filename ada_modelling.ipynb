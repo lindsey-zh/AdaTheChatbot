{
  "nbformat": 4,
  "nbformat_minor": 0,
  "metadata": {
    "colab": {
      "name": "ada_modelling.ipynb",
      "provenance": []
    },
    "kernelspec": {
      "name": "python3",
      "display_name": "Python 3"
    }
  },
  "cells": [
    {
      "cell_type": "code",
      "metadata": {
        "id": "tFss38t7OKGK",
        "outputId": "9201dd34-4af8-4a00-8d47-cb02c4d2d7a4",
        "colab": {
          "base_uri": "https://localhost:8080/",
          "height": 377
        }
      },
      "source": [
        "!pip install wordninja\n",
        "!pip install scattertext && python -m spacy.en.download\n",
        "!pip install sklearn\n",
        "\n",
        "import numpy as np\n",
        "import pandas as pd\n",
        "import seaborn as sns\n",
        "import matplotlib.pyplot as plt\n",
        "import os\n",
        "\n",
        "pd.set_option('display.max_columns', 100)\n",
        "sns.set_style(\"darkgrid\")\n",
        "\n",
        "from nltk.tokenize import RegexpTokenizer\n",
        "from nltk.stem import WordNetLemmatizer\n",
        "from nltk.corpus import stopwords\n",
        "import re\n",
        "\n",
        "from sklearn.feature_extraction.text import CountVectorizer\n",
        "from sklearn.model_selection import train_test_split\n",
        "from sklearn.naive_bayes import MultinomialNB\n",
        "from sklearn.metrics import confusion_matrix\n",
        "from sklearn.metrics import roc_auc_score\n",
        "from sklearn.metrics import classification_report\n",
        "from sklearn.preprocessing import StandardScaler\n",
        "from sklearn.neighbors import KNeighborsClassifier\n",
        "from sklearn.linear_model import LogisticRegression\n",
        "from sklearn.feature_extraction.text import TfidfVectorizer\n",
        "\n",
        "from wordcloud import WordCloud, STOPWORDS, ImageColorGenerator\n",
        "from PIL import Image\n",
        "\n",
        "import wordninja\n",
        "\n",
        "%matplotlib inline\n",
        "import scattertext as st\n",
        "import re, io\n",
        "from pprint import pprint\n",
        "from scipy.stats import rankdata, hmean, norm\n",
        "import spacy\n",
        "import os, pkgutil, json, urllib\n",
        "from urllib.request import urlopen\n",
        "from IPython.display import IFrame\n",
        "from IPython.core.display import display, HTML\n",
        "from scattertext import CorpusFromPandas, produce_scattertext_explorer\n",
        "display(HTML(\"<style>.container { width:98% !important; }</style>\"))"
      ],
      "execution_count": null,
      "outputs": [
        {
          "output_type": "stream",
          "text": [
            "Requirement already satisfied: wordninja in /usr/local/lib/python3.6/dist-packages (2.0.0)\n",
            "Requirement already satisfied: scattertext in /usr/local/lib/python3.6/dist-packages (0.0.2.71)\n",
            "Requirement already satisfied: scikit-learn in /usr/local/lib/python3.6/dist-packages (from scattertext) (0.22.2.post1)\n",
            "Requirement already satisfied: mock in /usr/local/lib/python3.6/dist-packages (from scattertext) (4.0.2)\n",
            "Requirement already satisfied: six in /usr/local/lib/python3.6/dist-packages (from scattertext) (1.15.0)\n",
            "Requirement already satisfied: pandas in /usr/local/lib/python3.6/dist-packages (from scattertext) (1.1.2)\n",
            "Requirement already satisfied: flashtext in /usr/local/lib/python3.6/dist-packages (from scattertext) (2.7)\n",
            "Requirement already satisfied: numpy in /usr/local/lib/python3.6/dist-packages (from scattertext) (1.18.5)\n",
            "Requirement already satisfied: scipy in /usr/local/lib/python3.6/dist-packages (from scattertext) (1.4.1)\n",
            "Requirement already satisfied: statsmodels in /usr/local/lib/python3.6/dist-packages (from scattertext) (0.10.2)\n",
            "Requirement already satisfied: joblib>=0.11 in /usr/local/lib/python3.6/dist-packages (from scikit-learn->scattertext) (0.16.0)\n",
            "Requirement already satisfied: pytz>=2017.2 in /usr/local/lib/python3.6/dist-packages (from pandas->scattertext) (2018.9)\n",
            "Requirement already satisfied: python-dateutil>=2.7.3 in /usr/local/lib/python3.6/dist-packages (from pandas->scattertext) (2.8.1)\n",
            "Requirement already satisfied: patsy>=0.4.0 in /usr/local/lib/python3.6/dist-packages (from statsmodels->scattertext) (0.5.1)\n",
            "/usr/bin/python3: Error while finding module specification for 'spacy.en.download' (ModuleNotFoundError: No module named 'spacy.en')\n",
            "Requirement already satisfied: sklearn in /usr/local/lib/python3.6/dist-packages (0.0)\n",
            "Requirement already satisfied: scikit-learn in /usr/local/lib/python3.6/dist-packages (from sklearn) (0.22.2.post1)\n",
            "Requirement already satisfied: scipy>=0.17.0 in /usr/local/lib/python3.6/dist-packages (from scikit-learn->sklearn) (1.4.1)\n",
            "Requirement already satisfied: joblib>=0.11 in /usr/local/lib/python3.6/dist-packages (from scikit-learn->sklearn) (0.16.0)\n",
            "Requirement already satisfied: numpy>=1.11.0 in /usr/local/lib/python3.6/dist-packages (from scikit-learn->sklearn) (1.18.5)\n"
          ],
          "name": "stdout"
        },
        {
          "output_type": "display_data",
          "data": {
            "text/html": [
              "<style>.container { width:98% !important; }</style>"
            ],
            "text/plain": [
              "<IPython.core.display.HTML object>"
            ]
          },
          "metadata": {
            "tags": []
          }
        }
      ]
    },
    {
      "cell_type": "code",
      "metadata": {
        "id": "C0sn3gdITSi3"
      },
      "source": [
        "model_data = pd.read_csv('../data/fin_combined_data.csv', keep_default_na=False)"
      ],
      "execution_count": null,
      "outputs": []
    },
    {
      "cell_type": "code",
      "metadata": {
        "id": "4r7g44Go4Qg1",
        "outputId": "97277649-e18b-4e43-80d4-1d4e13927377",
        "colab": {
          "base_uri": "https://localhost:8080/",
          "height": 312
        }
      },
      "source": [
        "model_data.head(3)"
      ],
      "execution_count": null,
      "outputs": [
        {
          "output_type": "execute_result",
          "data": {
            "text/html": [
              "<div>\n",
              "<style scoped>\n",
              "    .dataframe tbody tr th:only-of-type {\n",
              "        vertical-align: middle;\n",
              "    }\n",
              "\n",
              "    .dataframe tbody tr th {\n",
              "        vertical-align: top;\n",
              "    }\n",
              "\n",
              "    .dataframe thead th {\n",
              "        text-align: right;\n",
              "    }\n",
              "</style>\n",
              "<table border=\"1\" class=\"dataframe\">\n",
              "  <thead>\n",
              "    <tr style=\"text-align: right;\">\n",
              "      <th></th>\n",
              "      <th>title</th>\n",
              "      <th>selftext</th>\n",
              "      <th>is_suicide</th>\n",
              "      <th>url</th>\n",
              "    </tr>\n",
              "  </thead>\n",
              "  <tbody>\n",
              "    <tr>\n",
              "      <th>0</th>\n",
              "      <td>Our most-broken and least-understood rules is ...</td>\n",
              "      <td>We understand that most people who reply immed...</td>\n",
              "      <td>1</td>\n",
              "      <td>https://www.reddit.com/r/depression/comments/d...</td>\n",
              "    </tr>\n",
              "    <tr>\n",
              "      <th>1</th>\n",
              "      <td>Regular Check-In Post</td>\n",
              "      <td>Welcome to /r/depression's check-in post - a p...</td>\n",
              "      <td>1</td>\n",
              "      <td>https://www.reddit.com/r/depression/comments/e...</td>\n",
              "    </tr>\n",
              "    <tr>\n",
              "      <th>2</th>\n",
              "      <td>I hate it so much when you try and express you...</td>\n",
              "      <td>I've been feeling really depressed and lonely ...</td>\n",
              "      <td>1</td>\n",
              "      <td>https://www.reddit.com/r/depression/comments/f...</td>\n",
              "    </tr>\n",
              "  </tbody>\n",
              "</table>\n",
              "</div>"
            ],
            "text/plain": [
              "                                               title  \\\n",
              "0  Our most-broken and least-understood rules is ...   \n",
              "1                              Regular Check-In Post   \n",
              "2  I hate it so much when you try and express you...   \n",
              "\n",
              "                                            selftext  is_suicide  \\\n",
              "0  We understand that most people who reply immed...           1   \n",
              "1  Welcome to /r/depression's check-in post - a p...           1   \n",
              "2  I've been feeling really depressed and lonely ...           1   \n",
              "\n",
              "                                                 url  \n",
              "0  https://www.reddit.com/r/depression/comments/d...  \n",
              "1  https://www.reddit.com/r/depression/comments/e...  \n",
              "2  https://www.reddit.com/r/depression/comments/f...  "
            ]
          },
          "metadata": {
            "tags": []
          },
          "execution_count": 17
        }
      ]
    },
    {
      "cell_type": "code",
      "metadata": {
        "id": "59V9E58_54rS",
        "outputId": "400b7ebe-d97c-4ecf-de77-8d5417d4851b",
        "colab": {
          "base_uri": "https://localhost:8080/",
          "height": 204
        }
      },
      "source": [
        "model_data.info()"
      ],
      "execution_count": null,
      "outputs": [
        {
          "output_type": "stream",
          "text": [
            "<class 'pandas.core.frame.DataFrame'>\n",
            "RangeIndex: 2516 entries, 0 to 2515\n",
            "Data columns (total 4 columns):\n",
            " #   Column      Non-Null Count  Dtype \n",
            "---  ------      --------------  ----- \n",
            " 0   title       2516 non-null   object\n",
            " 1   selftext    2516 non-null   object\n",
            " 2   is_suicide  2516 non-null   int64 \n",
            " 3   url         2516 non-null   object\n",
            "dtypes: int64(1), object(3)\n",
            "memory usage: 78.8+ KB\n"
          ],
          "name": "stdout"
        }
      ]
    },
    {
      "cell_type": "code",
      "metadata": {
        "id": "PHOeO1tDFaQe",
        "outputId": "7511f64c-17dd-44b1-8a14-a139c76b2955",
        "colab": {
          "base_uri": "https://localhost:8080/",
          "height": 34
        }
      },
      "source": [
        "model_data['is_suicide'].mean()\n",
        "#baseline accuracy of 60.25%"
      ],
      "execution_count": null,
      "outputs": [
        {
          "output_type": "execute_result",
          "data": {
            "text/plain": [
              "0.6025437201907791"
            ]
          },
          "metadata": {
            "tags": []
          },
          "execution_count": 19
        }
      ]
    },
    {
      "cell_type": "code",
      "metadata": {
        "id": "fQ_QzmdDG8BC"
      },
      "source": [
        "def multi_modelling(columns_list, model):\n",
        "    for i in columns_list:\n",
        "        X = model_data[i]\n",
        "        y = model_data['is_suicide']\n",
        "        \n",
        "        X_train, X_test, y_train, y_test = train_test_split(X, y, test_size=0.25, random_state=42, stratify=y)\n",
        "        \n",
        "        cvec = CountVectorizer()\n",
        "        cvec.fit(X_train)\n",
        "        \n",
        "        X_train = pd.DataFrame(cvec.transform(X_train).todense(),\n",
        "                               columns=cvec.get_feature_names())\n",
        "        X_test = pd.DataFrame(cvec.transform(X_test).todense(),\n",
        "                               columns=cvec.get_feature_names())\n",
        "        \n",
        "        nb = MultinomialNB()\n",
        "        nb.fit(X_train,y_train)\n",
        "        \n",
        "        pred = nb.predict(X_test)\n",
        "        \n",
        "        tn, fp, fn, tp = confusion_matrix(y_test, pred).ravel()\n",
        "        \n",
        "        \n",
        "        nb.predict_proba(X_test)\n",
        "        pred_proba = [i[1] for i in nb.predict_proba(X_test)] \n",
        "        auc = roc_auc_score(y_test, pred_proba)\n",
        "\n",
        "        classi_dict = (classification_report(y_test,pred, output_dict=True))\n",
        "\n",
        "        model_results = {}\n",
        "        model_results['series used (X)'] = i\n",
        "        model_results['model'] = model\n",
        "        model_results['AUC Score'] = auc\n",
        "        model_results['precision']= classi_dict['weighted avg']['precision']\n",
        "        model_results['recall (sensitivity)']= classi_dict['weighted avg']['recall']\n",
        "        model_results['confusion matrix']={\"TP\": tp,\"FP\":fp, \"TN\": tn, \"FN\": fn}\n",
        "        model_results['train accuracy'] = nb.score(X_train, y_train)\n",
        "        model_results['test accuracy'] = nb.score(X_test, y_test)\n",
        "        model_results['baseline accuracy']=0.5166\n",
        "        model_results['specificity']= tn/(tn+fp)  \n",
        "        model_results['f1-score']= classi_dict['weighted avg']['f1-score']\n",
        "\n",
        "        model_results\n",
        "        df_list.append(model_results) \n",
        "\n",
        "    pd.set_option(\"display.max_colwidth\", 50)\n",
        "    return (pd.DataFrame(df_list)).round(2)"
      ],
      "execution_count": null,
      "outputs": []
    },
    {
      "cell_type": "code",
      "metadata": {
        "id": "Mq41FNDVOQXP",
        "outputId": "b4b56247-63eb-4f51-fe36-dbba7808ba55",
        "colab": {
          "base_uri": "https://localhost:8080/",
          "height": 267
        }
      },
      "source": [
        "columns_list = ['title', 'selftext']\n",
        "model = \"CountVec + MultinomialNB\"\n",
        "df_list=[]\n",
        "multi_modelling(columns_list, model)"
      ],
      "execution_count": null,
      "outputs": [
        {
          "output_type": "execute_result",
          "data": {
            "text/html": [
              "<div>\n",
              "<style scoped>\n",
              "    .dataframe tbody tr th:only-of-type {\n",
              "        vertical-align: middle;\n",
              "    }\n",
              "\n",
              "    .dataframe tbody tr th {\n",
              "        vertical-align: top;\n",
              "    }\n",
              "\n",
              "    .dataframe thead th {\n",
              "        text-align: right;\n",
              "    }\n",
              "</style>\n",
              "<table border=\"1\" class=\"dataframe\">\n",
              "  <thead>\n",
              "    <tr style=\"text-align: right;\">\n",
              "      <th></th>\n",
              "      <th>series used (X)</th>\n",
              "      <th>model</th>\n",
              "      <th>AUC Score</th>\n",
              "      <th>precision</th>\n",
              "      <th>recall (sensitivity)</th>\n",
              "      <th>confusion matrix</th>\n",
              "      <th>train accuracy</th>\n",
              "      <th>test accuracy</th>\n",
              "      <th>baseline accuracy</th>\n",
              "      <th>specificity</th>\n",
              "      <th>f1-score</th>\n",
              "    </tr>\n",
              "  </thead>\n",
              "  <tbody>\n",
              "    <tr>\n",
              "      <th>0</th>\n",
              "      <td>title</td>\n",
              "      <td>CountVec + MultinomialNB</td>\n",
              "      <td>0.96</td>\n",
              "      <td>0.89</td>\n",
              "      <td>0.89</td>\n",
              "      <td>{'TP': 363, 'FP': 54, 'TN': 196, 'FN': 16}</td>\n",
              "      <td>0.96</td>\n",
              "      <td>0.89</td>\n",
              "      <td>0.52</td>\n",
              "      <td>0.78</td>\n",
              "      <td>0.89</td>\n",
              "    </tr>\n",
              "    <tr>\n",
              "      <th>1</th>\n",
              "      <td>selftext</td>\n",
              "      <td>CountVec + MultinomialNB</td>\n",
              "      <td>0.99</td>\n",
              "      <td>0.94</td>\n",
              "      <td>0.94</td>\n",
              "      <td>{'TP': 377, 'FP': 38, 'TN': 212, 'FN': 2}</td>\n",
              "      <td>0.96</td>\n",
              "      <td>0.94</td>\n",
              "      <td>0.52</td>\n",
              "      <td>0.85</td>\n",
              "      <td>0.94</td>\n",
              "    </tr>\n",
              "  </tbody>\n",
              "</table>\n",
              "</div>"
            ],
            "text/plain": [
              "  series used (X)                     model  AUC Score  precision  \\\n",
              "0           title  CountVec + MultinomialNB       0.96       0.89   \n",
              "1        selftext  CountVec + MultinomialNB       0.99       0.94   \n",
              "\n",
              "   recall (sensitivity)                            confusion matrix  \\\n",
              "0                  0.89  {'TP': 363, 'FP': 54, 'TN': 196, 'FN': 16}   \n",
              "1                  0.94   {'TP': 377, 'FP': 38, 'TN': 212, 'FN': 2}   \n",
              "\n",
              "   train accuracy  test accuracy  baseline accuracy  specificity  f1-score  \n",
              "0            0.96           0.89               0.52         0.78      0.89  \n",
              "1            0.96           0.94               0.52         0.85      0.94  "
            ]
          },
          "metadata": {
            "tags": []
          },
          "execution_count": 21
        }
      ]
    },
    {
      "cell_type": "code",
      "metadata": {
        "id": "H5IwvjoNWR3c",
        "outputId": "3c474fe8-9b1f-4075-c032-49ae1f7d7ded",
        "colab": {
          "base_uri": "https://localhost:8080/",
          "height": 51
        }
      },
      "source": [
        "X = model_data[\"title\"]\n",
        "y = model_data['is_suicide']\n",
        "\n",
        "X_train, X_test, y_train, y_test = train_test_split(X, y, test_size=0.25, random_state=42, stratify=y)\n",
        "\n",
        "tvec_optimised = TfidfVectorizer(max_df= 0.5, max_features=70, min_df=2, ngram_range=(1, 3),stop_words = 'english')\n",
        "X_train_tvec = tvec_optimised.fit_transform(X_train).todense()\n",
        "X_test_tvec = tvec_optimised.transform(X_test).todense()\n",
        "\n",
        "nb = MultinomialNB()\n",
        "nb.fit(X_train_tvec, y_train)\n",
        "accuracy = nb.score(X_test_tvec, y_test)\n",
        "\n",
        "pred_proba = [i[1] for i in nb.predict_proba(X_test_tvec)] \n",
        "auc = roc_auc_score(y_test, pred_proba)\n",
        "\n",
        "print(\"ACCURACY: {}\\nAUC SCORE: {}\".format(accuracy, auc))\n"
      ],
      "execution_count": null,
      "outputs": [
        {
          "output_type": "stream",
          "text": [
            "ACCURACY: 0.7376788553259142\n",
            "AUC SCORE: 0.8325751978891821\n"
          ],
          "name": "stdout"
        }
      ]
    },
    {
      "cell_type": "code",
      "metadata": {
        "id": "GbctY2UuXCNw",
        "outputId": "75976247-77b0-4960-b5e1-d5bc47a28807",
        "colab": {
          "base_uri": "https://localhost:8080/",
          "height": 51
        }
      },
      "source": [
        "X = model_data[\"selftext\"]\n",
        "y = model_data['is_suicide']\n",
        "\n",
        "X_train, X_test, y_train, y_test = train_test_split(X, y, test_size=0.25, random_state=42, stratify=y)\n",
        "\n",
        "tvec_optimised = TfidfVectorizer(max_df= 0.5, max_features=70, min_df=2, ngram_range=(1, 3),stop_words = 'english')\n",
        "X_train_tvec = tvec_optimised.fit_transform(X_train).todense()\n",
        "X_test_tvec = tvec_optimised.transform(X_test).todense()\n",
        "\n",
        "nb = MultinomialNB()\n",
        "nb.fit(X_train_tvec, y_train)\n",
        "accuracy = nb.score(X_test_tvec, y_test)\n",
        "\n",
        "pred_proba = [i[1] for i in nb.predict_proba(X_test_tvec)] \n",
        "auc = roc_auc_score(y_test, pred_proba)\n",
        "\n",
        "print(\"ACCURACY: {}\\nAUC SCORE: {}\".format(accuracy, auc) )"
      ],
      "execution_count": null,
      "outputs": [
        {
          "output_type": "stream",
          "text": [
            "ACCURACY: 0.821939586645469\n",
            "AUC SCORE: 0.9560105540897098\n"
          ],
          "name": "stdout"
        }
      ]
    },
    {
      "cell_type": "code",
      "metadata": {
        "id": "lVu8HEF-crSb"
      },
      "source": [
        "model_data2 = pd.read_csv('../data/testdata.csv', keep_default_na=False)"
      ],
      "execution_count": null,
      "outputs": []
    },
    {
      "cell_type": "code",
      "metadata": {
        "id": "ygmaa4Nseipc",
        "outputId": "467b83ab-0c62-4864-a848-80842cbae219",
        "colab": {
          "base_uri": "https://localhost:8080/",
          "height": 34
        }
      },
      "source": [
        "model_data2['is_suicide'].mean()\n",
        "#baseline accuracy of 65.18%"
      ],
      "execution_count": null,
      "outputs": [
        {
          "output_type": "execute_result",
          "data": {
            "text/plain": [
              "0.6518010291595198"
            ]
          },
          "metadata": {
            "tags": []
          },
          "execution_count": 25
        }
      ]
    },
    {
      "cell_type": "code",
      "metadata": {
        "id": "OcJDju9EexeS",
        "outputId": "a8e45a76-6c61-4ca3-f17a-b4862d06fc84",
        "colab": {
          "base_uri": "https://localhost:8080/",
          "height": 51
        }
      },
      "source": [
        "X = model_data2[\"title\"]\n",
        "y = model_data2['is_suicide']\n",
        "\n",
        "X_train, X_test, y_train, y_test = train_test_split(X, y, test_size=0.25, random_state=42, stratify=y)\n",
        "\n",
        "tvec_optimised = TfidfVectorizer(max_df= 0.5, max_features=70, min_df=2, ngram_range=(1, 3),stop_words = 'english')\n",
        "X_train_tvec = tvec_optimised.fit_transform(X_train).todense()\n",
        "X_test_tvec = tvec_optimised.transform(X_test).todense()\n",
        "\n",
        "nb = MultinomialNB()\n",
        "nb.fit(X_train_tvec, y_train)\n",
        "accuracy = nb.score(X_test_tvec, y_test)\n",
        "\n",
        "pred_proba = [i[1] for i in nb.predict_proba(X_test_tvec)] \n",
        "auc = roc_auc_score(y_test, pred_proba)\n",
        "\n",
        "print(\"ACCURACY: {}\\nAUC SCORE: {}\".format(accuracy, auc))"
      ],
      "execution_count": null,
      "outputs": [
        {
          "output_type": "stream",
          "text": [
            "ACCURACY: 0.8082191780821918\n",
            "AUC SCORE: 0.8661506707946337\n"
          ],
          "name": "stdout"
        }
      ]
    },
    {
      "cell_type": "code",
      "metadata": {
        "id": "FR-6VMDqe4Cn",
        "outputId": "f322fd61-7a3a-488e-cc5f-5b907efbd821",
        "colab": {
          "base_uri": "https://localhost:8080/",
          "height": 51
        }
      },
      "source": [
        "X = model_data2[\"selftext\"]\n",
        "y = model_data2['is_suicide']\n",
        "\n",
        "X_train, X_test, y_train, y_test = train_test_split(X, y, test_size=0.25, random_state=42, stratify=y)\n",
        "\n",
        "tvec_optimised = TfidfVectorizer(max_df= 0.5, max_features=70, min_df=2, ngram_range=(1, 3),stop_words = 'english')\n",
        "X_train_tvec = tvec_optimised.fit_transform(X_train).todense()\n",
        "X_test_tvec = tvec_optimised.transform(X_test).todense()\n",
        "\n",
        "nb = MultinomialNB()\n",
        "nb.fit(X_train_tvec, y_train)\n",
        "accuracy = nb.score(X_test_tvec, y_test)\n",
        "\n",
        "pred_proba = [i[1] for i in nb.predict_proba(X_test_tvec)] \n",
        "auc = roc_auc_score(y_test, pred_proba)\n",
        "\n",
        "print(\"ACCURACY: {}\\nAUC SCORE: {}\".format(accuracy, auc) )"
      ],
      "execution_count": null,
      "outputs": [
        {
          "output_type": "stream",
          "text": [
            "ACCURACY: 0.8356164383561644\n",
            "AUC SCORE: 0.9330237358101136\n"
          ],
          "name": "stdout"
        }
      ]
    },
    {
      "cell_type": "code",
      "metadata": {
        "id": "k3uOEI0lctzX",
        "outputId": "a8dba0b0-f655-42b1-e5db-657ad85d0d06",
        "colab": {
          "base_uri": "https://localhost:8080/",
          "height": 343
        }
      },
      "source": [
        "pip install praw"
      ],
      "execution_count": null,
      "outputs": [
        {
          "output_type": "stream",
          "text": [
            "Collecting praw\n",
            "\u001b[?25l  Downloading https://files.pythonhosted.org/packages/2c/15/4bcc44271afce0316c73cd2ed35f951f1363a07d4d5d5440ae5eb2baad78/praw-7.1.0-py3-none-any.whl (152kB)\n",
            "\u001b[K     |████████████████████████████████| 153kB 2.8MB/s \n",
            "\u001b[?25hCollecting websocket-client>=0.54.0\n",
            "\u001b[?25l  Downloading https://files.pythonhosted.org/packages/4c/5f/f61b420143ed1c8dc69f9eaec5ff1ac36109d52c80de49d66e0c36c3dfdf/websocket_client-0.57.0-py2.py3-none-any.whl (200kB)\n",
            "\u001b[K     |████████████████████████████████| 204kB 8.7MB/s \n",
            "\u001b[?25hCollecting prawcore<2.0,>=1.3.0\n",
            "  Downloading https://files.pythonhosted.org/packages/1d/40/b741437ce4c7b64f928513817b29c0a615efb66ab5e5e01f66fe92d2d95b/prawcore-1.5.0-py3-none-any.whl\n",
            "Collecting update-checker>=0.17\n",
            "  Downloading https://files.pythonhosted.org/packages/0c/ba/8dd7fa5f0b1c6a8ac62f8f57f7e794160c1f86f31c6d0fb00f582372a3e4/update_checker-0.18.0-py3-none-any.whl\n",
            "Requirement already satisfied: six in /usr/local/lib/python3.6/dist-packages (from websocket-client>=0.54.0->praw) (1.15.0)\n",
            "Requirement already satisfied: requests<3.0,>=2.6.0 in /usr/local/lib/python3.6/dist-packages (from prawcore<2.0,>=1.3.0->praw) (2.23.0)\n",
            "Requirement already satisfied: chardet<4,>=3.0.2 in /usr/local/lib/python3.6/dist-packages (from requests<3.0,>=2.6.0->prawcore<2.0,>=1.3.0->praw) (3.0.4)\n",
            "Requirement already satisfied: urllib3!=1.25.0,!=1.25.1,<1.26,>=1.21.1 in /usr/local/lib/python3.6/dist-packages (from requests<3.0,>=2.6.0->prawcore<2.0,>=1.3.0->praw) (1.24.3)\n",
            "Requirement already satisfied: idna<3,>=2.5 in /usr/local/lib/python3.6/dist-packages (from requests<3.0,>=2.6.0->prawcore<2.0,>=1.3.0->praw) (2.10)\n",
            "Requirement already satisfied: certifi>=2017.4.17 in /usr/local/lib/python3.6/dist-packages (from requests<3.0,>=2.6.0->prawcore<2.0,>=1.3.0->praw) (2020.6.20)\n",
            "Installing collected packages: websocket-client, prawcore, update-checker, praw\n",
            "Successfully installed praw-7.1.0 prawcore-1.5.0 update-checker-0.18.0 websocket-client-0.57.0\n"
          ],
          "name": "stdout"
        }
      ]
    },
    {
      "cell_type": "code",
      "metadata": {
        "id": "vQd5M9MzcxCs"
      },
      "source": [
        "import praw\n",
        "import os\n",
        "import sys\n",
        "from praw.exceptions import APIException\n",
        "import random as r\n",
        "import time as t\n",
        "import csv"
      ],
      "execution_count": null,
      "outputs": []
    },
    {
      "cell_type": "code",
      "metadata": {
        "id": "qvEWxqlWczRM"
      },
      "source": [
        "userAgent = 'Ada'\n",
        "cID = 'I2YE0Oa0aIV57Q'\n",
        "cSC= '7lyGmWG8NL7w2DSMCdx8tqkHiOE'\n",
        "userN = 'AdaTheChatbot'\n",
        "userP ='thestillsmoking$'\n",
        "reddit = praw.Reddit(user_agent=userAgent, client_id=cID, client_secret=cSC, username=userN, password=userP)\n"
      ],
      "execution_count": null,
      "outputs": []
    },
    {
      "cell_type": "code",
      "metadata": {
        "id": "JYpFtdhCc1xK"
      },
      "source": [
        "subreddit = reddit.subreddit('testingground4bots+SuicideWatch+depression+rant')\n",
        "keywords = ['pineapples']\n",
        "bot_phrase = ['ily', 'you are loved', 'your life matters', 'it will be better soon', 'you deserve the world', 'you deserve to be happy', 'you are such a huge inspiration to many of us', 'you are beautiful inside and out', 'never lose hope', 'somewhere out there, someone cares about you', 'you are worthy', \"i may not understand what you're going through, but i believe in you\", 'the sun will still rise']\n",
        "duplicateComments = []\n",
        "duplicateSubmissions = []\n",
        "\n",
        "def output():\n",
        "  item_url = 'https://www.reddit.com' + submission.permalink\n",
        "  print(\"URL: \", item_url)\n",
        "  print(\"BODY: \", submission.selftext)\n",
        "  if type_to == 'title':\n",
        "    print(\"TITLE: \", submission.title)\n",
        "  elif type_to == 'body':\n",
        "    print(\"BODY2: \", submission.selftext)\n",
        "  elif type_to == 'comment':\n",
        "    print(\"COMMENT: \", comment.body)\n"
      ],
      "execution_count": null,
      "outputs": []
    },
    {
      "cell_type": "code",
      "metadata": {
        "id": "zKluvnzic3wa",
        "outputId": "5a47c5f4-837a-427e-8f5e-7c2ff38316d1",
        "colab": {
          "base_uri": "https://localhost:8080/",
          "height": 85
        }
      },
      "source": [
        "type_to = 'body'\n",
        "b_confirm = False\n",
        "\n",
        "type_to = 'title'\n",
        "t_confirm = False\n",
        "\n",
        "for submission in subreddit.new(limit=10):\n",
        "  n_body = submission.selftext.lower()\n",
        "  if n_body == \"\":\n",
        "    n_body = \" \"\n",
        "  n_title = submission.title.lower()\n",
        "  author = str(submission.author)\n",
        "  s_id = submission.id\n",
        "  s_url = 'https://www.reddit.com' + submission.permalink\n",
        "\n",
        "  with open('reddit.csv', 'w', newline='') as file:\n",
        "    writer = csv.writer(file)\n",
        "    writer.writerow([\"title\", \"selftext\", \"url\"])\n",
        "    writer.writerow([n_title, n_body, s_url])\n",
        "    file.close()\n",
        "    redditdata = pd.read_csv('../content/reddit.csv', keep_default_na=False)\n",
        "\n",
        "  if s_id in duplicateSubmissions:\n",
        "    print(\"duplicate\")\n",
        "  else:\n",
        "    duplicateSubmissions.append(s_id)\n",
        "    print('Current post: https://www.reddit.com' + submission.permalink)\n",
        "    X_train = model_data[\"title\"]\n",
        "    y_train = model_data['is_suicide']\n",
        "    X_test = redditdata[\"title\"]\n",
        "    \n",
        "    tvec_optimised = TfidfVectorizer(max_df= 0.5, max_features=70, min_df=2, ngram_range=(1, 3),stop_words = 'english')\n",
        "    X_train_tvec = tvec_optimised.fit_transform(X_train).todense()\n",
        "    X_test_tvec = tvec_optimised.transform(X_test).todense()\n",
        "    nb = MultinomialNB()\n",
        "    nb.fit(X_train_tvec, y_train)\n",
        "    predictions_t = nb.predict(X_test_tvec)\n",
        "\n",
        "    X_train = model_data[\"selftext\"]\n",
        "    y_train = model_data['is_suicide']\n",
        "    X_test = redditdata[\"selftext\"]\n",
        "\n",
        "    tvec_optimised = TfidfVectorizer(max_df= 0.5, max_features=70, min_df=2, ngram_range=(1, 3),stop_words = 'english')\n",
        "    X_train_tvec = tvec_optimised.fit_transform(X_train).todense()\n",
        "    X_test_tvec = tvec_optimised.transform(X_test).todense()\n",
        "    nb = MultinomialNB()\n",
        "    nb.fit(X_train_tvec, y_train)\n",
        "    predictions_b = nb.predict(X_test_tvec)\n",
        "\n",
        "      # RELEVANT CODE STARTS HERE - if either Body or Title returned 1 from the model, reply with a random phrase\n",
        "    if predictions_t == 1 or predictions_b == 1:\n",
        "      try:\n",
        "        message = r.choice(bot_phrase)\n",
        "        submission.reply(message)\n",
        "        output()\n",
        "\n",
        "        #print(\"TARG: \",type(str(author)))\n",
        "        #reddit.redditor(author).message(\"TEST\", \"Testing.\")\n",
        "        t.sleep(5)\n",
        "      except APIException as e:\n",
        "        print(\"\\nComment not sent.\\n----------------------\\n\")\n",
        "    else:\n",
        "      print(\"Not Depressed.\", duplicateSubmissions)"
      ],
      "execution_count": null,
      "outputs": [
        {
          "output_type": "stream",
          "text": [
            "Current post: https://www.reddit.com/r/testingground4bots/comments/jhsvq6/maybe_i_should_end_it_all/\n",
            "URL:  https://www.reddit.com/r/testingground4bots/comments/jhsvq6/maybe_i_should_end_it_all/\n",
            "BODY:  hahaha... jokes\n",
            "TITLE:  maybe i should end it all\n"
          ],
          "name": "stdout"
        }
      ]
    },
    {
      "cell_type": "markdown",
      "metadata": {
        "id": "6hEOZwUmc9JH"
      },
      "source": [
        "comments?"
      ]
    }
  ]
}